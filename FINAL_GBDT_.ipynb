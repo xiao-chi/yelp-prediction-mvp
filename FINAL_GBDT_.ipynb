{
  "nbformat": 4,
  "nbformat_minor": 0,
  "metadata": {
    "colab": {
      "name": "FINAL_GBDT_.ipynb",
      "version": "0.3.2",
      "provenance": [],
      "collapsed_sections": [],
      "toc_visible": true,
      "include_colab_link": true
    },
    "kernelspec": {
      "name": "python3",
      "display_name": "Python 3"
    },
    "accelerator": "GPU"
  },
  "cells": [
    {
      "cell_type": "markdown",
      "metadata": {
        "id": "view-in-github",
        "colab_type": "text"
      },
      "source": [
        "<a href=\"https://colab.research.google.com/github/xiao-chi/yelp-prediction-mvp/blob/master/FINAL_GBDT_.ipynb\" target=\"_parent\"><img src=\"https://colab.research.google.com/assets/colab-badge.svg\" alt=\"Open In Colab\"/></a>"
      ]
    },
    {
      "metadata": {
        "id": "oP24pi44U_lf",
        "colab_type": "code",
        "outputId": "d259b41b-3886-46e9-ad42-389a657dc599",
        "colab": {
          "base_uri": "https://localhost:8080/",
          "height": 99
        }
      },
      "cell_type": "code",
      "source": [
        "from google.colab import drive\n",
        "drive.mount('/content/gdrive')"
      ],
      "execution_count": 0,
      "outputs": [
        {
          "output_type": "stream",
          "text": [
            "Drive already mounted at /content/gdrive; to attempt to forcibly remount, call drive.mount(\"/content/gdrive\", force_remount=True).\n"
          ],
          "name": "stdout"
        }
      ]
    },
    {
      "metadata": {
        "id": "pMtJPGGZVUhC",
        "colab_type": "code",
        "colab": {}
      },
      "cell_type": "code",
      "source": [
        "import numpy as np\n",
        "import pandas as pd\n",
        "from sklearn.externals import joblib\n",
        "from sklearn.ensemble import GradientBoostingClassifier\n",
        "import matplotlib.pyplot as plt\n",
        "from sklearn import metrics\n",
        "from sklearn.model_selection import GridSearchCV\n",
        "from collections import Counter\n",
        "from sklearn.feature_selection import RFE\n",
        "from sklearn.metrics import confusion_matrix\n",
        "from sklearn.metrics import classification_report\n",
        "from sklearn.metrics import roc_auc_score\n",
        "from sklearn.metrics import roc_curve\n",
        "from sklearn.metrics import auc\n",
        "%matplotlib inline"
      ],
      "execution_count": 0,
      "outputs": []
    },
    {
      "metadata": {
        "id": "kIW2TrKVU_ls",
        "colab_type": "code",
        "colab": {}
      },
      "cell_type": "code",
      "source": [
        "train_df = pd.read_csv('/content/gdrive/My Drive/we_data/FINAL_CSVs/train_1793_7172.csv')\n",
        "val_df = pd.read_csv('/content/gdrive/My Drive/we_data/FINAL_CSVs/FINAL_VALIDATION_v1.csv')\n",
        "train_df = train_df.drop(['Unnamed: 0','Unnamed: 0.1'],axis=1)\n",
        "val_df = val_df.drop('Unnamed: 0',axis=1)"
      ],
      "execution_count": 0,
      "outputs": []
    },
    {
      "metadata": {
        "id": "t9MVzDSLU_mE",
        "colab_type": "code",
        "outputId": "fb436770-da9f-4067-bec7-10c15b81b507",
        "colab": {
          "base_uri": "https://localhost:8080/",
          "height": 272
        }
      },
      "cell_type": "code",
      "source": [
        "# https://medium.com/all-things-ai/in-depth-parameter-tuning-for-gradient-boosting-3363992e9bae\n",
        "\n",
        "x = train_df.drop(['click','bidid','userid','city','payprice','bidprice'],axis=1)\n",
        "y = train_df['click']\n",
        "\n",
        "x2 = val_df.drop(['click','bidid','userid','city','payprice','bidprice'],axis=1)\n",
        "y2 = val_df['click']\n",
        "\n",
        "gb = GradientBoostingClassifier()\n",
        "gb.fit(x, y)\n",
        "\n",
        "y_pred = gb.predict(x2)\n",
        "print('Accuracy of GBDT classifier on test set: {:.2f}'.format(gb.score(x2, y2)))\n",
        "\n",
        "conf_mat = confusion_matrix(y2, y_pred)\n",
        "print('Confusion matrix: ','\\n',conf_mat, '\\n')\n",
        "print(classification_report(y2, y_pred))\n",
        "\n",
        "FP_rate, TP_rate, thresholds = roc_curve(y2, y_pred)\n",
        "roc_auc = auc(FP_rate, TP_rate)\n",
        "roc_auc"
      ],
      "execution_count": 0,
      "outputs": [
        {
          "output_type": "stream",
          "text": [
            "Accuracy of GBDT classifier on test set: 0.98\n",
            "Confusion matrix:  \n",
            " [[297891   5832]\n",
            " [   150     52]] \n",
            "\n",
            "              precision    recall  f1-score   support\n",
            "\n",
            "           0       1.00      0.98      0.99    303723\n",
            "           1       0.01      0.26      0.02       202\n",
            "\n",
            "   micro avg       0.98      0.98      0.98    303925\n",
            "   macro avg       0.50      0.62      0.50    303925\n",
            "weighted avg       1.00      0.98      0.99    303925\n",
            "\n"
          ],
          "name": "stdout"
        },
        {
          "output_type": "execute_result",
          "data": {
            "text/plain": [
              "0.6191120178779368"
            ]
          },
          "metadata": {
            "tags": []
          },
          "execution_count": 6
        }
      ]
    },
    {
      "metadata": {
        "id": "G47auANu3r65",
        "colab_type": "text"
      },
      "cell_type": "markdown",
      "source": [
        "# Features Selection"
      ]
    },
    {
      "metadata": {
        "id": "jSAabthIa5su",
        "colab_type": "code",
        "colab": {}
      },
      "cell_type": "code",
      "source": [
        "for i in range(60, 201, 10):\n",
        "  \n",
        "  x = train_df.drop(['click','bidid','userid','city','payprice','bidprice'],axis=1)\n",
        "  y = train_df['click']\n",
        "  \n",
        "  gb = GradientBoostingClassifier()\n",
        "\n",
        "  rfe = RFE(logreg, i)\n",
        "  rfe = rfe.fit(x, y)\n",
        "\n",
        "  selected_features = []\n",
        "\n",
        "  for j in range(len(x.columns.tolist())):\n",
        "    if rfe.ranking_[j] == 1:\n",
        "      selected_features.append(x.columns.tolist()[j])\n",
        "\n",
        "  x = train_df[selected_features]\n",
        "  y = train_df['click']\n",
        "\n",
        "  logreg.fit(x, y)\n",
        "\n",
        "  x2 = val_df[selected_features]\n",
        "  y2 = val_df['click']\n",
        "\n",
        "\n",
        "  y_pred = logreg.predict(x2)\n",
        "  print('At ' + str(i) + ' feature, accuracy of logistic regression classifier on test set: {:.2f}'.format(logreg.score(x2, y2)))\n",
        "\n",
        "  conf_mat = confusion_matrix(y2, y_pred)\n",
        "  print('Confusion matrix: ','\\n',conf_mat, '\\n')\n",
        "  print(classification_report(y2, y_pred), '\\n')\n",
        "\n",
        "\n",
        "# With 180 features, accuracy of GBDT classifier on test set: 0.98\n",
        "# Confusion matrix:  \n",
        "#  [[296731   6992]\n",
        "#  [    99    103]] \n",
        "\n",
        "#               precision    recall  f1-score   support\n",
        "\n",
        "#            0       1.00      0.98      0.99    303723\n",
        "#            1       0.01      0.51      0.03       202\n",
        "\n",
        "#    micro avg       0.98      0.98      0.98    303925\n",
        "#    macro avg       0.51      0.74      0.51    303925\n",
        "# weighted avg       1.00      0.98      0.99    303925"
      ],
      "execution_count": 0,
      "outputs": []
    },
    {
      "metadata": {
        "id": "Kl_BSH8ra62z",
        "colab_type": "code",
        "outputId": "a2b259fa-c347-47e4-be0f-3eb21b371d73",
        "colab": {
          "base_uri": "https://localhost:8080/",
          "height": 272
        }
      },
      "cell_type": "code",
      "source": [
        "gb = GradientBoostingClassifier()\n",
        "  \n",
        "rfe = RFE(gb, n_features_to_select = 180)\n",
        "rfe = rfe.fit(x, y)\n",
        "\n",
        "selected_features = []\n",
        "\n",
        "for j in range(len(x.columns.tolist())):\n",
        "  if rfe.ranking_[j] == 1:\n",
        "    selected_features.append(x.columns.tolist()[j])\n",
        "\n",
        "x = train_df[selected_features]\n",
        "y = train_df['click']\n",
        "\n",
        "gb.fit(x, y)\n",
        "\n",
        "x2 = val_df[selected_features]\n",
        "y2 = val_df['click']\n",
        "\n",
        "\n",
        "y_pred = gb.predict(x2)\n",
        "print('Accuracy of GBDT classifier on test set: {:.2f}'.format(gb.score(x2, y2)))\n",
        "\n",
        "conf_mat = confusion_matrix(y2, y_pred)\n",
        "print('Confusion matrix: ','\\n',conf_mat, '\\n')\n",
        "print(classification_report(y2, y_pred), '\\n')\n"
      ],
      "execution_count": 0,
      "outputs": [
        {
          "output_type": "stream",
          "text": [
            "Accuracy of GBDT classifier on test set: 0.98\n",
            "Confusion matrix:  \n",
            " [[296721   7002]\n",
            " [   100    102]] \n",
            "\n",
            "              precision    recall  f1-score   support\n",
            "\n",
            "           0       1.00      0.98      0.99    303723\n",
            "           1       0.01      0.50      0.03       202\n",
            "\n",
            "   micro avg       0.98      0.98      0.98    303925\n",
            "   macro avg       0.51      0.74      0.51    303925\n",
            "weighted avg       1.00      0.98      0.99    303925\n",
            " \n",
            "\n"
          ],
          "name": "stdout"
        }
      ]
    },
    {
      "metadata": {
        "id": "hrUVLjX33u6E",
        "colab_type": "text"
      },
      "cell_type": "markdown",
      "source": [
        "# Grid search parameter"
      ]
    },
    {
      "metadata": {
        "id": "xj8d8pa1domP",
        "colab_type": "code",
        "colab": {}
      },
      "cell_type": "code",
      "source": [
        "# Parameter tuning\n",
        "\n",
        "learning_rates = [0.5, 0.25, 0.1, 0.05, 0.01]\n",
        "n_estimators = [200, 250, 280, 300, 340]\n",
        "max_depths = [4,5,6,8,10]\n",
        "# min_samples_leafs = np.linspace(0.1, 0.5, 5, endpoint=True)\n",
        "\n",
        "grid_values = [\n",
        "    {'learning_rate': learning_rates, 'n_estimators': n_estimators, 'max_depth': max_depths}\n",
        "]\n",
        "\n",
        "grid = GridSearchCV(GradientBoostingClassifier(), param_grid = grid_values, cv = 3, scoring='accuracy', iid=False)\n",
        "grid.fit(x, y)\n",
        "print(grid.best_params_)\n",
        "print(grid.best_estimator_)\n",
        "\n",
        "\n",
        "# {'learning_rate': 0.01, 'max_depth': 6, 'n_estimators': 340}\n",
        "# GradientBoostingClassifier(criterion='friedman_mse', init=None,\n",
        "#               learning_rate=0.01, loss='deviance', max_depth=6,\n",
        "#               max_features=None, max_leaf_nodes=None,\n",
        "#               min_impurity_decrease=0.0, min_impurity_split=None,\n",
        "#               min_samples_leaf=1, min_samples_split=2,\n",
        "#               min_weight_fraction_leaf=0.0, n_estimators=340,\n",
        "#               n_iter_no_change=None, presort='auto', random_state=None,\n",
        "#               subsample=1.0, tol=0.0001, validation_fraction=0.1,\n",
        "#               verbose=0, warm_start=False)"
      ],
      "execution_count": 0,
      "outputs": []
    },
    {
      "metadata": {
        "id": "nGv5KwjsLsfy",
        "colab_type": "code",
        "outputId": "0e76c0fb-2a4b-43cb-d43e-932f6ccc94fa",
        "colab": {
          "base_uri": "https://localhost:8080/",
          "height": 272
        }
      },
      "cell_type": "code",
      "source": [
        "x = train_df[selected_features]\n",
        "y = train_df['click']\n",
        "\n",
        "x2 = val_df[selected_features]\n",
        "y2 = val_df['click']\n",
        "\n",
        "gb = GradientBoostingClassifier(criterion='friedman_mse', init=None,\n",
        "              learning_rate=0.01, loss='deviance', max_depth=6,\n",
        "              max_features=None, max_leaf_nodes=None,\n",
        "              min_impurity_decrease=0.0, min_impurity_split=None,\n",
        "              min_samples_leaf=1, min_samples_split=2,\n",
        "              min_weight_fraction_leaf=0.0, n_estimators=340,\n",
        "              n_iter_no_change=None, presort='auto', random_state=None,\n",
        "              subsample=1.0, tol=0.0001, validation_fraction=0.1,\n",
        "              verbose=0, warm_start=False)\n",
        "gb.fit(x, y)\n",
        "\n",
        "y_pred = gb.predict(x2)\n",
        "print('Accuracy of GBDT classifier on test set: {:.2f}'.format(gb.score(x2, y2)))\n",
        "\n",
        "conf_mat = confusion_matrix(y2, y_pred)\n",
        "print('Confusion matrix: ','\\n',conf_mat, '\\n')\n",
        "print(classification_report(y2, y_pred))\n",
        "\n",
        "FP_rate, TP_rate, thresholds = roc_curve(y2, y_pred)\n",
        "roc_auc = auc(FP_rate, TP_rate)\n",
        "roc_auc"
      ],
      "execution_count": 0,
      "outputs": [
        {
          "output_type": "stream",
          "text": [
            "Accuracy of GBDT classifier on test set: 0.98\n",
            "Confusion matrix:  \n",
            " [[297097   6626]\n",
            " [    96    106]] \n",
            "\n",
            "              precision    recall  f1-score   support\n",
            "\n",
            "           0       1.00      0.98      0.99    303723\n",
            "           1       0.02      0.52      0.03       202\n",
            "\n",
            "   micro avg       0.98      0.98      0.98    303925\n",
            "   macro avg       0.51      0.75      0.51    303925\n",
            "weighted avg       1.00      0.98      0.99    303925\n",
            "\n"
          ],
          "name": "stdout"
        },
        {
          "output_type": "execute_result",
          "data": {
            "text/plain": [
              "0.751468272142057"
            ]
          },
          "metadata": {
            "tags": []
          },
          "execution_count": 74
        }
      ]
    },
    {
      "metadata": {
        "id": "34SD_ig_S9Gp",
        "colab_type": "text"
      },
      "cell_type": "markdown",
      "source": [
        "# Save model"
      ]
    },
    {
      "metadata": {
        "id": "unW1D585nprQ",
        "colab_type": "code",
        "colab": {}
      },
      "cell_type": "code",
      "source": [
        "selected_features = ['hour','slotprice','weekday_0','weekday_1','weekday_2','weekday_3','weekday_4','weekday_5','weekday_6','adexchange_1.0',\n",
        "                     'adexchange_2.0','adexchange_3.0','adexchange_4.0','slotvisibility_0','slotvisibility_1','slotvisibility_2',\n",
        "                     'slotvisibility_255','slotvisibility_FifthView','slotvisibility_FirstView','slotvisibility_FourthView',\n",
        "                     'slotvisibility_OtherView','slotvisibility_SecondView','slotformat_0','slotformat_1','slotformat_5','advertiser_1458',\n",
        "                     'advertiser_2259','advertiser_3358','advertiser_3386','advertiser_3427','advertiser_3476','domain1','domain2','domain3',\n",
        "                     'domain4','domain5','domain6','domain7','domain8','domain9','domain10','url1','url2','creative1','creative2',\n",
        "                     'creative3', 'creative4', 'creative5', 'keypage1', 'keypage2', 'keypage3', 'region_1', 'region_15', 'region_40',\n",
        "                     'region_65', 'region_79', 'region_80', 'region_106', 'region_124', 'region_164', 'region_216', 'region_238',\n",
        "                     'region_275', 'region_298', 'region_325', 'region_368', 'region_374', 'usertag_10006', 'usertag_13866',\n",
        "                     'usertag_10110', 'usertag_10063', 'usertag_10111', 'usertag_10057', 'usertag_10024', 'usertag_13496', 'usertag_13403',\n",
        "                     'usertag_10031', 'usertag_10075', 'usertag_10059', 'usertag_11278', 'usertag_11379', 'usertag_10684', 'usertag_11632',\n",
        "                     'usertag_13042', 'usertag_11680', 'usertag_14273', 'usertag_13776', 'usertag_10079', 'usertag_10120', 'usertag_10133',\n",
        "                     'usertag_10067', 'usertag_11092', 'usertag_10102', 'usertag_10131', 'usertag_10115', 'usertag_10148', 'usertag_16751',\n",
        "                     'usertag_10074', 'usertag_11423', 'usertag_10114', 'usertag_10127', 'usertag_10138', 'usertag_13874', 'os_android',\n",
        "                     'os_linux', 'os_mac', 'os_other', 'os_windows', 'browser_chrome', 'browser_firefox', 'browser_other', 'browser_safari',\n",
        "                     'slotsize_1000*90', 'slotsize_125*125', 'slotsize_200*200', 'slotsize_300*250', 'slotsize_300*600', 'slotsize_320*50',\n",
        "                     'slotsize_336*280', 'slotsize_360*300', 'slotsize_468*60', 'slotsize_620*60', 'slotsize_728*90', 'slotsize_760*90', \n",
        "                     'slotsize_910*90', 'slotsize_950*90','slotsize_960*60','slotsize_960*90', 'slotsize_980*80','slotsize_980*90']\n",
        "\n",
        "\n",
        "x = train_df[selected_features]\n",
        "y = train_df['click']\n",
        "\n",
        "x2 = val_df[selected_features]\n",
        "y2 = val_df['click']"
      ],
      "execution_count": 0,
      "outputs": []
    },
    {
      "metadata": {
        "id": "u9FN_07Ko5F5",
        "colab_type": "code",
        "colab": {}
      },
      "cell_type": "code",
      "source": [
        "# save model\n",
        "filename = '/content/gdrive/My Drive/we_data/Models/GBDT_Model.sav'\n",
        "joblib.dump(gb, filename)"
      ],
      "execution_count": 0,
      "outputs": []
    },
    {
      "metadata": {
        "id": "dK1WccGFS_g3",
        "colab_type": "code",
        "outputId": "9c44d747-e77d-4d7b-e8be-f768c4c2c623",
        "colab": {
          "base_uri": "https://localhost:8080/",
          "height": 34
        }
      },
      "cell_type": "code",
      "source": [
        "filename = '/content/gdrive/My Drive/we_data/Models/GBDT_Model.sav'\n",
        "loaded_gbdt = joblib.load(filename)\n",
        "result = loaded_gbdt.score(x2, y2)\n",
        "print(result)"
      ],
      "execution_count": 0,
      "outputs": [
        {
          "output_type": "stream",
          "text": [
            "0.9778662498971786\n"
          ],
          "name": "stdout"
        }
      ]
    },
    {
      "metadata": {
        "id": "woAPowScHCqX",
        "colab_type": "code",
        "outputId": "cd2797ee-e001-4860-ea37-5714f1a55436",
        "colab": {
          "base_uri": "https://localhost:8080/",
          "height": 272
        }
      },
      "cell_type": "code",
      "source": [
        "y_pred = loaded_gbdt.predict(x2)\n",
        "print('Accuracy : {:.2f}'.format(loaded_gbdt.score(x2, y2)))\n",
        "\n",
        "conf_mat = confusion_matrix(y2, y_pred)\n",
        "print('Confusion matrix: ','\\n',conf_mat, '\\n')\n",
        "print(classification_report(y2, y_pred))\n",
        "\n",
        "FP_rate, TP_rate, thresholds = roc_curve(y2, y_pred)\n",
        "roc_auc = auc(FP_rate, TP_rate)\n",
        "roc_auc"
      ],
      "execution_count": 0,
      "outputs": [
        {
          "output_type": "stream",
          "text": [
            "Accuracy : 0.98\n",
            "Confusion matrix:  \n",
            " [[297092   6631]\n",
            " [    96    106]] \n",
            "\n",
            "              precision    recall  f1-score   support\n",
            "\n",
            "           0       1.00      0.98      0.99    303723\n",
            "           1       0.02      0.52      0.03       202\n",
            "\n",
            "   micro avg       0.98      0.98      0.98    303925\n",
            "   macro avg       0.51      0.75      0.51    303925\n",
            "weighted avg       1.00      0.98      0.99    303925\n",
            "\n"
          ],
          "name": "stdout"
        },
        {
          "output_type": "execute_result",
          "data": {
            "text/plain": [
              "0.7514600409577212"
            ]
          },
          "metadata": {
            "tags": []
          },
          "execution_count": 46
        }
      ]
    },
    {
      "metadata": {
        "id": "16azqxxEOZoT",
        "colab_type": "text"
      },
      "cell_type": "markdown",
      "source": [
        "# Linear Bidding Function (With recalibration)"
      ]
    },
    {
      "metadata": {
        "id": "hm0QkoH6zdx4",
        "colab_type": "code",
        "colab": {}
      },
      "cell_type": "code",
      "source": [
        "pCTR = loaded_gbdt.predict_proba(x2)[:,1]\n",
        "w = 7172/(2430981-1793) # 0.00295\n",
        "pCTR = pCTR/(pCTR+(1-pCTR)/w)\n",
        "pCTR *= 100\n",
        "avgCTR = len(train_df[train_df['click']==1])/len(train_df)\n",
        "bid = 0\n",
        "\n",
        "\n",
        "for b in range(1,501): # try different base bids to find bid price for each row\n",
        "  current_bid = b*pCTR/avgCTR\n",
        "  budget = 6250 * 1000\n",
        "  clicks = 0\n",
        "  impressions = 0\n",
        "\n",
        "  for j in range(len(current_bid)): # check the bid price can give how many clicks given the base bid\n",
        "    payprice = val_df.payprice[j]\n",
        "    if current_bid[j] > payprice:\n",
        "      budget = budget - payprice\n",
        "      if budget >=0:\n",
        "        impressions+=1\n",
        "        if (val_df.click[j]==1):\n",
        "                clicks +=1\n",
        "      else:\n",
        "        budget = budget+payprice\n",
        "        break     \n",
        "\n",
        "  Ctr = clicks/impressions\n",
        "  Spent = 6250000 - budget\n",
        "  cPM = 1000*Spent/impressions\n",
        "  if (clicks >0):\n",
        "      ecPC = Spent/clicks\n",
        "  else:\n",
        "      ecPC =0\n",
        "\n",
        "\n",
        "  print ('For base bid =',b, ' impressions =',impressions,' Clicks =',clicks,' Spent amount = ',Spent, ' eCPC is ',ecPC) \n",
        "  print ( ' CTR =',Ctr, ' CPM is ',cPM)\n",
        "  print (' ------->')\n",
        "\n",
        "\n",
        "# For base bid = 340  impressions = 138931  Clicks = 160  Spent amount =  5912014  eCPC is  36950.0875\n",
        "#  CTR = 0.0011516508194715361  CPM is  42553.59854891997"
      ],
      "execution_count": 0,
      "outputs": []
    },
    {
      "metadata": {
        "id": "Nun5OObFTJGa",
        "colab_type": "text"
      },
      "cell_type": "markdown",
      "source": [
        "Predict on Validation"
      ]
    },
    {
      "metadata": {
        "id": "jFygnbDtTQJU",
        "colab_type": "code",
        "colab": {}
      },
      "cell_type": "code",
      "source": [
        "filename = '/content/gdrive/My Drive/we_data/Models/Logistic_Regression_Model.sav'\n",
        "loaded_logreg = joblib.load(filename)\n",
        "\n",
        "x2 = val_df[selected_features]\n",
        "y2 = val_df['click']\n",
        "\n",
        "y_pred = loaded_logreg.predict(x2)\n",
        "pCTR = loaded_logreg.predict_proba(x2)[:,1]\n",
        "avgCTR = len(train_df[train_df['click']==1])/len(train_df)\n",
        "w = 7172/(2430981-1793)\n",
        "pCTR = pCTR/(pCTR+(1-pCTR)/w)\n",
        "pCTR *= 100\n",
        "b = 341\n",
        "# lamda = 0.000256\n",
        "final_bids = b*pCTR/avgCTR\n",
        "\n",
        "group_df = val_df[['bidid']]\n",
        "group_df['bidprice'] = final_bids\n",
        "group_df['Probability'] = pCTR\n",
        "group_df['Click'] = y_pred\n",
        "# group_df.to_csv('/content/gdrive/My Drive/we_data/SUBMISSION_BIDS/DIFFERENT_pBIDPRICES/VAL_GBDT_LINEAR_RECAL.csv')\n",
        "group_df.head()"
      ],
      "execution_count": 0,
      "outputs": []
    },
    {
      "metadata": {
        "id": "G0E6CpSMTNKj",
        "colab_type": "text"
      },
      "cell_type": "markdown",
      "source": [
        "Predict on Test"
      ]
    },
    {
      "metadata": {
        "id": "6WgdVuikTMZ2",
        "colab_type": "code",
        "colab": {}
      },
      "cell_type": "code",
      "source": [
        "# test_df = pd.read_csv('/content/gdrive/My Drive/we_data/FINAL_CSVs/FINAL_TEST_v1.csv')\n",
        "# test_df['click'] = 0\n",
        "# test_df = test_df.drop('Unnamed: 0',axis=1)\n",
        "\n",
        "# filename = '/content/gdrive/My Drive/we_data/Models/Logistic_Regression_Model.sav'\n",
        "# loaded_logreg = joblib.load(filename)\n",
        "\n",
        "# x3 = test_df[selected_features]\n",
        "# y3 = test_df['click']\n",
        "\n",
        "# y_pred = loaded_logreg.predict(x3)\n",
        "# pCTR = loaded_logreg.predict_proba(x3)[:,1]\n",
        "# w = 7172/(2430981-1793)\n",
        "# pCTR = pCTR/(pCTR+(1-pCTR)/w)\n",
        "# pCTR *= 100\n",
        "# c = 169\n",
        "# lamda = 0.000256\n",
        "# final_bids = b*pCTR/avgCTR\n",
        "\n",
        "# group_df = pd.read_csv('/content/gdrive/My Drive/we_data/Group_xx.csv')\n",
        "# group_df['bidprice'] = final_bids\n",
        "# group_df['Probability'] = pCTR\n",
        "# group_df['Click'] = y_pred\n",
        "# group_df.to_csv('/content/gdrive/My Drive/we_data/SUBMISSION_BIDS/FINAL_LR_ORTB2_BIDS_c124.csv')\n",
        "# group_df.head()"
      ],
      "execution_count": 0,
      "outputs": []
    },
    {
      "metadata": {
        "id": "voBxAhTgPPgX",
        "colab_type": "text"
      },
      "cell_type": "markdown",
      "source": [
        "# Linear Bidding Function (No recalibration)"
      ]
    },
    {
      "metadata": {
        "id": "QZRyhgVTOZM-",
        "colab_type": "code",
        "colab": {}
      },
      "cell_type": "code",
      "source": [
        "\n",
        "pCTR = loaded_gbdt.predict_proba(x2)[:,1]\n",
        "# w = 7172/(2430981-1793)\n",
        "# pCTR = pCTR/(pCTR+(1-pCTR)/w)\n",
        "# pCTR *= 100\n",
        "avgCTR = len(train_df[train_df['click']==1])/len(train_df)\n",
        "bid = 0\n",
        "\n",
        "\n",
        "for b in range(101,301): # try different base bids to find bid price for each row\n",
        "  current_bid = b*pCTR/avgCTR\n",
        "  budget = 6250 * 1000\n",
        "  clicks = 0\n",
        "  impressions = 0\n",
        "\n",
        "  for j in range(len(current_bid)): # check the bid price can give how many clicks given the base bid\n",
        "    payprice = val_df.payprice[j]\n",
        "    if current_bid[j] > payprice:\n",
        "      budget = budget - payprice\n",
        "      if budget >=0:\n",
        "        impressions+=1\n",
        "        if (val_df.click[j]==1):\n",
        "                clicks +=1\n",
        "      else:\n",
        "        budget = budget+payprice\n",
        "        break     \n",
        "\n",
        "  Ctr = clicks/impressions\n",
        "  Spent = 6250000 - budget\n",
        "  cPM = 1000*Spent/impressions\n",
        "  if (clicks >0):\n",
        "      ecPC = Spent/clicks\n",
        "  else:\n",
        "      ecPC =0\n",
        "\n",
        "\n",
        "  print ('For base bid =',b, ' impressions =',impressions,' Clicks =',clicks,' Spent amount = ',Spent, ' eCPC is ',ecPC) \n",
        "  print ( ' CTR =',Ctr, ' CPM is ',cPM)\n",
        "  print (' ------->')\n",
        "\n",
        "\n",
        "# For base bid = 115  impressions = 139987  Clicks = 159  Spent amount =  5733225  eCPC is  36058.018867924526\n",
        "#  CTR = 0.0011358197546915071  CPM is  40955.41014522777\n"
      ],
      "execution_count": 0,
      "outputs": []
    },
    {
      "metadata": {
        "id": "VPalQE-MYTth",
        "colab_type": "text"
      },
      "cell_type": "markdown",
      "source": [
        "Predic on Validation"
      ]
    },
    {
      "metadata": {
        "id": "GFwFbAoKYaoD",
        "colab_type": "code",
        "colab": {}
      },
      "cell_type": "code",
      "source": [
        "filename = '/content/gdrive/My Drive/we_data/Models/Logistic_Regression_Model.sav'\n",
        "loaded_logreg = joblib.load(filename)\n",
        "\n",
        "y_pred = loaded_logreg.predict(x2)\n",
        "pCTR = loaded_logreg.predict_proba(x2)[:,1]\n",
        "b = 115\n",
        "final_bids = b*pCTR/avgCTR\n",
        "\n",
        "group_df = val_df[['bidid']]\n",
        "group_df['bidprice'] = final_bids\n",
        "group_df['Probability'] = pCTR\n",
        "group_df['Click'] = y_pred\n",
        "group_df.to_csv('/content/gdrive/My Drive/we_data/SUBMISSION_BIDS/DIFFERENT_pBIDPRICES/VAL_GBDT_LINEAR_NO_RECAL.csv')\n",
        "group_df.head()"
      ],
      "execution_count": 0,
      "outputs": []
    },
    {
      "metadata": {
        "id": "ZWl69WtsUuXw",
        "colab_type": "text"
      },
      "cell_type": "markdown",
      "source": [
        "Predict on Test"
      ]
    },
    {
      "metadata": {
        "id": "VzdUe-MuUxYh",
        "colab_type": "code",
        "colab": {}
      },
      "cell_type": "code",
      "source": [
        "# test_df = pd.read_csv('/content/gdrive/My Drive/we_data/FINAL_CSVs/FINAL_TEST_v1.csv')\n",
        "# test_df['click'] = 0\n",
        "# test_df = test_df.drop('Unnamed: 0',axis=1)\n",
        "\n",
        "# filename = '/content/gdrive/My Drive/we_data/Models/Logistic_Regression_Model.sav'\n",
        "# loaded_logreg = joblib.load(filename)\n",
        "\n",
        "# x3 = test_df[selected_features]\n",
        "# y3 = test_df['click']\n",
        "\n",
        "# y_pred = loaded_logreg.predict(x3)\n",
        "# pCTR = loaded_logreg.predict_proba(x3)[:,1]\n",
        "# # w = 7172/(2430981-1793)\n",
        "# # pCTR = pCTR/(pCTR+(1-pCTR)/w)\n",
        "# # pCTR *= 100\n",
        "# # c = 169\n",
        "# # lamda = 0.000256\n",
        "# final_bids = b*pCTR/avgCTR\n",
        "\n",
        "# group_df = pd.read_csv('/content/gdrive/My Drive/we_data/Group_xx.csv')\n",
        "# group_df['bidprice'] = final_bids\n",
        "# group_df['Probability'] = pCTR\n",
        "# group_df['Click'] = y_pred\n",
        "# group_df.to_csv('/content/gdrive/My Drive/we_data/SUBMISSION_BIDS/FINAL_LR_ORTB2_BIDS_c124.csv')\n",
        "# group_df.head()"
      ],
      "execution_count": 0,
      "outputs": []
    },
    {
      "metadata": {
        "id": "edtYFDpea6Ae",
        "colab_type": "text"
      },
      "cell_type": "markdown",
      "source": [
        "# Squared Function (No recalibration)"
      ]
    },
    {
      "metadata": {
        "id": "VyJ9MRlna-tJ",
        "colab_type": "code",
        "colab": {}
      },
      "cell_type": "code",
      "source": [
        "\n",
        "pCTR = loaded_gbdt.predict_proba(x2)[:,1]\n",
        "# w = 7172/(2430981-1793)\n",
        "# pCTR = pCTR/(pCTR+(1-pCTR)/w)\n",
        "# pCTR *= 100\n",
        "avgCTR = len(train_df[train_df['click']==1])/len(train_df)\n",
        "bid = 0\n",
        "\n",
        "\n",
        "for b in range(1,301): # try different base bids to find bid price for each row\n",
        "  current_bid = b*(pCTR/avgCTR)**2\n",
        "  budget = 6250 * 1000\n",
        "  clicks = 0\n",
        "  impressions = 0\n",
        "\n",
        "  for j in range(len(current_bid)): # check the bid price can give how many clicks given the base bid\n",
        "    payprice = val_df.payprice[j]\n",
        "    if current_bid[j] > payprice:\n",
        "      budget = budget - payprice\n",
        "      if budget >=0:\n",
        "        impressions+=1\n",
        "        if (val_df.click[j]==1):\n",
        "                clicks +=1\n",
        "      else:\n",
        "        budget = budget+payprice\n",
        "        break     \n",
        "\n",
        "  Ctr = clicks/impressions\n",
        "  Spent = 6250000 - budget\n",
        "  cPM = 1000*Spent/impressions\n",
        "  if (clicks >0):\n",
        "      ecPC = Spent/clicks\n",
        "  else:\n",
        "      ecPC =0\n",
        "\n",
        "  print ('For base bid =',b, ' impressions =',impressions,' Clicks =',clicks,' Spent amount = ',Spent, ' eCPC is ',ecPC) \n",
        "  print ( ' CTR =',Ctr, ' CPM is ',cPM)\n",
        "  print (' ------->')\n",
        "\n",
        "\n",
        "\n",
        "# For base bid = 186  impressions = 123262  Clicks = 165  Spent amount =  6249933  eCPC is  37878.38181818182\n",
        "#  CTR = 0.0013386120621115996  CPM is  50704.45879508689\n",
        "\n"
      ],
      "execution_count": 0,
      "outputs": []
    },
    {
      "metadata": {
        "id": "gDR5MOwGzmdJ",
        "colab_type": "code",
        "colab": {}
      },
      "cell_type": "code",
      "source": [
        "filename = '/content/gdrive/My Drive/we_data/Models/Logistic_Regression_Model.sav'\n",
        "loaded_logreg = joblib.load(filename)\n",
        "\n",
        "y_pred = loaded_logreg.predict(x2)\n",
        "pCTR = loaded_logreg.predict_proba(x2)[:,1]\n",
        "b = 186\n",
        "final_bids = b*(pCTR/avgCTR)**2\n",
        "\n",
        "group_df = val_df[['bidid']]\n",
        "group_df['bidprice'] = final_bids\n",
        "group_df['Probability'] = pCTR\n",
        "group_df['Click'] = y_pred\n",
        "group_df.to_csv('/content/gdrive/My Drive/we_data/SUBMISSION_BIDS/DIFFERENT_pBIDPRICES/VAL_GBDT_SQUARED_NO_RECAL.csv')\n",
        "group_df.head()"
      ],
      "execution_count": 0,
      "outputs": []
    },
    {
      "metadata": {
        "id": "S5-GpX1G6Qt4",
        "colab_type": "code",
        "outputId": "6fe28f8f-1601-439e-f77a-744a235a5103",
        "colab": {
          "base_uri": "https://localhost:8080/",
          "height": 204
        }
      },
      "cell_type": "code",
      "source": [
        "test_df = pd.read_csv('/content/gdrive/My Drive/we_data/FINAL_CSVs/FINAL_TEST_v1.csv')\n",
        "test_df['click'] = 0\n",
        "test_df = test_df.drop('Unnamed: 0',axis=1)\n",
        "\n",
        "filename = '/content/gdrive/My Drive/we_data/Models/Logistic_Regression_Model.sav'\n",
        "loaded_logreg = joblib.load(filename)\n",
        "\n",
        "x3 = test_df[selected_features]\n",
        "y3 = test_df['click']\n",
        "\n",
        "y_pred = loaded_logreg.predict(x3)\n",
        "pCTR = loaded_logreg.predict_proba(x3)[:,1]\n",
        "b = 186\n",
        "final_bids = b*(pCTR/avgCTR)**2\n",
        "\n",
        "group_df = pd.read_csv('/content/gdrive/My Drive/we_data/Group_xx.csv')\n",
        "group_df['bidprice'] = final_bids\n",
        "group_df['Probability'] = pCTR\n",
        "group_df['Click'] = y_pred\n",
        "group_df.to_csv('/content/gdrive/My Drive/we_data/SUBMISSION_BIDS/DIFFERENT_pBIDPRICES/TEST_GBDT_SQUARED_NO_RECAL.csv')\n",
        "group_df.head()"
      ],
      "execution_count": 0,
      "outputs": [
        {
          "output_type": "execute_result",
          "data": {
            "text/html": [
              "<div>\n",
              "<style scoped>\n",
              "    .dataframe tbody tr th:only-of-type {\n",
              "        vertical-align: middle;\n",
              "    }\n",
              "\n",
              "    .dataframe tbody tr th {\n",
              "        vertical-align: top;\n",
              "    }\n",
              "\n",
              "    .dataframe thead th {\n",
              "        text-align: right;\n",
              "    }\n",
              "</style>\n",
              "<table border=\"1\" class=\"dataframe\">\n",
              "  <thead>\n",
              "    <tr style=\"text-align: right;\">\n",
              "      <th></th>\n",
              "      <th>bidid</th>\n",
              "      <th>bidprice</th>\n",
              "      <th>Probability</th>\n",
              "      <th>Click</th>\n",
              "    </tr>\n",
              "  </thead>\n",
              "  <tbody>\n",
              "    <tr>\n",
              "      <th>0</th>\n",
              "      <td>366c563de7d90feb9d4dab53e795a93fb3157387</td>\n",
              "      <td>4628.715002</td>\n",
              "      <td>0.997709</td>\n",
              "      <td>1</td>\n",
              "    </tr>\n",
              "    <tr>\n",
              "      <th>1</th>\n",
              "      <td>29167d4caa719788b5a342dbaa25151d53121f80</td>\n",
              "      <td>5.939251</td>\n",
              "      <td>0.035739</td>\n",
              "      <td>0</td>\n",
              "    </tr>\n",
              "    <tr>\n",
              "      <th>2</th>\n",
              "      <td>ff8bc3f4d44a3ea60c5f3a3a8fbe7cd98fb2966e</td>\n",
              "      <td>4649.849703</td>\n",
              "      <td>0.999984</td>\n",
              "      <td>1</td>\n",
              "    </tr>\n",
              "    <tr>\n",
              "      <th>3</th>\n",
              "      <td>844c2da00d45315f20b748ec131c26ee99a7cbc7</td>\n",
              "      <td>1.465941</td>\n",
              "      <td>0.017755</td>\n",
              "      <td>0</td>\n",
              "    </tr>\n",
              "    <tr>\n",
              "      <th>4</th>\n",
              "      <td>c6017f0ad0c44d7d0c9b62583ea863f28941c0ca</td>\n",
              "      <td>4486.742348</td>\n",
              "      <td>0.982289</td>\n",
              "      <td>1</td>\n",
              "    </tr>\n",
              "  </tbody>\n",
              "</table>\n",
              "</div>"
            ],
            "text/plain": [
              "                                      bidid     bidprice  Probability  Click\n",
              "0  366c563de7d90feb9d4dab53e795a93fb3157387  4628.715002     0.997709      1\n",
              "1  29167d4caa719788b5a342dbaa25151d53121f80     5.939251     0.035739      0\n",
              "2  ff8bc3f4d44a3ea60c5f3a3a8fbe7cd98fb2966e  4649.849703     0.999984      1\n",
              "3  844c2da00d45315f20b748ec131c26ee99a7cbc7     1.465941     0.017755      0\n",
              "4  c6017f0ad0c44d7d0c9b62583ea863f28941c0ca  4486.742348     0.982289      1"
            ]
          },
          "metadata": {
            "tags": []
          },
          "execution_count": 33
        }
      ]
    },
    {
      "metadata": {
        "id": "MDIl32K77LSf",
        "colab_type": "text"
      },
      "cell_type": "markdown",
      "source": [
        "# TO THE POWER 1.9 (No Recalibration)"
      ]
    },
    {
      "metadata": {
        "id": "IOpsg-zb7KsE",
        "colab_type": "code",
        "colab": {}
      },
      "cell_type": "code",
      "source": [
        "pCTR = loaded_gbdt.predict_proba(x2)[:,1]\n",
        "# w = 7172/(2430981-1793)\n",
        "# pCTR = pCTR/(pCTR+(1-pCTR)/w)\n",
        "# pCTR *= 100\n",
        "avgCTR = len(train_df[train_df['click']==1])/len(train_df)\n",
        "bid = 0\n",
        "\n",
        "\n",
        "for b in range(1,301): # try different base bids to find bid price for each row\n",
        "  current_bid = b*(pCTR/avgCTR)**1.9\n",
        "  budget = 6250 * 1000\n",
        "  clicks = 0\n",
        "  impressions = 0\n",
        "\n",
        "  for j in range(len(current_bid)): # check the bid price can give how many clicks given the base bid\n",
        "    payprice = val_df.payprice[j]\n",
        "    if current_bid[j] > payprice:\n",
        "      budget = budget - payprice\n",
        "      if budget >=0:\n",
        "        impressions+=1\n",
        "        if (val_df.click[j]==1):\n",
        "                clicks +=1\n",
        "      else:\n",
        "        budget = budget+payprice\n",
        "        break     \n",
        "\n",
        "  Ctr = clicks/impressions\n",
        "  Spent = 6250000 - budget\n",
        "  cPM = 1000*Spent/impressions\n",
        "  if (clicks >0):\n",
        "      ecPC = Spent/clicks\n",
        "  else:\n",
        "      ecPC =0\n",
        "\n",
        "  print ('For base bid =',b, ' impressions =',impressions,' Clicks =',clicks,' Spent amount = ',Spent, ' eCPC is ',ecPC) \n",
        "  print ( ' CTR =',Ctr, ' CPM is ',cPM)\n",
        "  print (' ------->')\n",
        "\n",
        "\n",
        "#\n",
        "# For base bid = 186  impressions = 123262  Clicks = 165  Spent amount =  6249933  eCPC is  37878.38181818182\n",
        "#  CTR = 0.0013386120621115996  CPM is  50704.45879508689\n",
        "\n",
        "# 1.9\n",
        "# For base bid = 178  impressions = 124998  Clicks = 165  Spent amount =  6234527  eCPC is  37785.01212121212\n",
        "#  CTR = 0.0013200211203379254  CPM is  49877.01403222451\n",
        "\n"
      ],
      "execution_count": 0,
      "outputs": []
    },
    {
      "metadata": {
        "id": "dBibbZYW-Ley",
        "colab_type": "code",
        "colab": {}
      },
      "cell_type": "code",
      "source": [
        "test_df = pd.read_csv('/content/gdrive/My Drive/we_data/FINAL_CSVs/FINAL_TEST_v1.csv')\n",
        "test_df['click'] = 0\n",
        "test_df = test_df.drop('Unnamed: 0',axis=1)\n",
        "\n",
        "filename = '/content/gdrive/My Drive/we_data/Models/Logistic_Regression_Model.sav'\n",
        "loaded_logreg = joblib.load(filename)\n",
        "\n",
        "x3 = test_df[selected_features]\n",
        "y3 = test_df['click']\n",
        "\n",
        "y_pred = loaded_logreg.predict(x3)\n",
        "pCTR = loaded_logreg.predict_proba(x3)[:,1]\n",
        "b = 178\n",
        "final_bids = b*(pCTR/avgCTR)**1.9\n",
        "\n",
        "group_df = pd.read_csv('/content/gdrive/My Drive/we_data/Group_xx.csv')\n",
        "group_df['bidprice'] = final_bids\n",
        "group_df['Probability'] = pCTR\n",
        "group_df['Click'] = y_pred\n",
        "group_df.to_csv('/content/gdrive/My Drive/we_data/SUBMISSION_BIDS/DIFFERENT_pBIDPRICES/TEST_GBDT_POWER1.9_NO_RECAL.csv')\n",
        "group_df.head()"
      ],
      "execution_count": 0,
      "outputs": []
    },
    {
      "metadata": {
        "id": "srXTXFu7-0A8",
        "colab_type": "text"
      },
      "cell_type": "markdown",
      "source": [
        "# TO THE POWER 1.95 (No Recalibration)"
      ]
    },
    {
      "metadata": {
        "id": "wrSXrM2b-obY",
        "colab_type": "code",
        "colab": {}
      },
      "cell_type": "code",
      "source": [
        "pCTR = loaded_gbdt.predict_proba(x2)[:,1]\n",
        "# w = 7172/(2430981-1793)\n",
        "# pCTR = pCTR/(pCTR+(1-pCTR)/w)\n",
        "# pCTR *= 100\n",
        "avgCTR = len(train_df[train_df['click']==1])/len(train_df)\n",
        "bid = 0\n",
        "\n",
        "\n",
        "for b in range(1,301): # try different base bids to find bid price for each row\n",
        "  current_bid = b*(pCTR/avgCTR)**1.95\n",
        "  budget = 6250 * 1000\n",
        "  clicks = 0\n",
        "  impressions = 0\n",
        "\n",
        "  for j in range(len(current_bid)): # check the bid price can give how many clicks given the base bid\n",
        "    payprice = val_df.payprice[j]\n",
        "    if current_bid[j] > payprice:\n",
        "      budget = budget - payprice\n",
        "      if budget >=0:\n",
        "        impressions+=1\n",
        "        if (val_df.click[j]==1):\n",
        "                clicks +=1\n",
        "      else:\n",
        "        budget = budget+payprice\n",
        "        break     \n",
        "\n",
        "  Ctr = clicks/impressions\n",
        "  Spent = 6250000 - budget\n",
        "  cPM = 1000*Spent/impressions\n",
        "  if (clicks >0):\n",
        "      ecPC = Spent/clicks\n",
        "  else:\n",
        "      ecPC =0\n",
        "\n",
        "\n",
        "  print ('For base bid =',b, ' impressions =',impressions,' Clicks =',clicks,' Spent amount = ',Spent, ' eCPC is ',ecPC) \n",
        "  print ( ' CTR =',Ctr, ' CPM is ',cPM)\n",
        "  print (' ------->')\n",
        "\n",
        "\n",
        "#\n",
        "# For base bid = 186  impressions = 123262  Clicks = 165  Spent amount =  6249933  eCPC is  37878.38181818182\n",
        "#  CTR = 0.0013386120621115996  CPM is  50704.45879508689\n",
        "\n",
        "# 1.9\n",
        "# For base bid = 178  impressions = 124998  Clicks = 165  Spent amount =  6234527  eCPC is  37785.01212121212\n",
        "#  CTR = 0.0013200211203379254  CPM is  49877.01403222451\n",
        "\n",
        "# 1.95\n",
        "# For base bid = 182  impressions = 124239  Clicks = 165  Spent amount =  6246029  eCPC is  37854.721212121214\n",
        "#  CTR = 0.0013280853838166758  CPM is  50274.301950273264\n"
      ],
      "execution_count": 0,
      "outputs": []
    },
    {
      "metadata": {
        "id": "UAnnpzXz-9Uz",
        "colab_type": "code",
        "colab": {}
      },
      "cell_type": "code",
      "source": [
        "test_df = pd.read_csv('/content/gdrive/My Drive/we_data/FINAL_CSVs/FINAL_TEST_v1.csv')\n",
        "test_df['click'] = 0\n",
        "test_df = test_df.drop('Unnamed: 0',axis=1)\n",
        "\n",
        "filename = '/content/gdrive/My Drive/we_data/Models/Logistic_Regression_Model.sav'\n",
        "loaded_logreg = joblib.load(filename)\n",
        "\n",
        "x3 = test_df[selected_features]\n",
        "y3 = test_df['click']\n",
        "\n",
        "y_pred = loaded_logreg.predict(x3)\n",
        "pCTR = loaded_logreg.predict_proba(x3)[:,1]\n",
        "b = 182\n",
        "final_bids = b*(pCTR/avgCTR)**1.95\n",
        "\n",
        "group_df = pd.read_csv('/content/gdrive/My Drive/we_data/Group_xx.csv')\n",
        "group_df['bidprice'] = final_bids\n",
        "group_df['Probability'] = pCTR\n",
        "group_df['Click'] = y_pred\n",
        "group_df.to_csv('/content/gdrive/My Drive/we_data/SUBMISSION_BIDS/DIFFERENT_pBIDPRICES/TEST_GBDT_POWER1.95_NO_RECAL.csv')\n",
        "group_df.head()"
      ],
      "execution_count": 0,
      "outputs": []
    },
    {
      "metadata": {
        "id": "YAHEs5_i8mQ_",
        "colab_type": "text"
      },
      "cell_type": "markdown",
      "source": [
        "# ORTB 1 (With Recalibration)"
      ]
    },
    {
      "metadata": {
        "id": "k_UQ-O7Dw3Bz",
        "colab_type": "code",
        "colab": {}
      },
      "cell_type": "code",
      "source": [
        "# non-linear bidding strategy\n",
        "# ORTB1\n",
        "# find c\n",
        "\n",
        "pCTR = loaded_gbdt.predict_proba(x2)[:,1]\n",
        "# lamda_list = [0.1, 0.05, 0.01, 0.005, 0.001, 0.0005, 0.0001, 0.00005, 0.00001]\n",
        "w = 7172/(2430981-1793)\n",
        "pCTR = pCTR/(pCTR+(1-pCTR)/w)\n",
        "pCTR *= 100\n",
        "lamda = 0.001\n",
        "# c = 124\n",
        "\n",
        "# for lamda in lamda_list:\n",
        "for c in range(1, 401):\n",
        "  current_bid = ((c/lamda)*pCTR + c**2)**0.5 - c\n",
        "  budget = 6250 * 1000\n",
        "  clicks = 0\n",
        "  impressions = 0\n",
        "\n",
        "#   winning_rate = current_bid/(c+current_bid)\n",
        "\n",
        "  for j in range(len(current_bid)): # check the bid price can give how many clicks given the base bid\n",
        "    payprice = val_df.payprice[j]\n",
        "    if current_bid[j] > payprice:\n",
        "      budget = budget - payprice\n",
        "      if budget >=0:\n",
        "        impressions+=1\n",
        "        if (val_df.click[j]==1):\n",
        "                clicks +=1\n",
        "      else:\n",
        "        budget = budget+payprice\n",
        "#           break     \n",
        "\n",
        "  Ctr = clicks/impressions\n",
        "  Spent = 6250000 - budget\n",
        "  cPM = 1000*Spent/impressions\n",
        "  if (clicks >0):\n",
        "      ecPC = Spent/clicks\n",
        "  else:\n",
        "      ecPC =0\n",
        "\n",
        "  print ('For lambda = ', lamda, ' c = ', c, ' impressions =',impressions,' Clicks =',clicks,' Spent amount = ',Spent, ' eCPC is ',ecPC) \n",
        "  print ( ' CTR =',Ctr, ' CPM is ',cPM)\n",
        "  print (' ------->')\n",
        "\n",
        "\n",
        "# without calibration\n",
        "#  For lambda =  0.001  c =  470  impressions = 101368  Clicks = 151  Spent amount =  3941973  eCPC is  26105.781456953642\n",
        "#  CTR = 0.0014896219714308262  CPM is  38887.74563964959\n",
        "\n",
        "# with calibration\n",
        "# For lambda =  0.001  c =  368  impressions = 37249  Clicks = 115  Spent amount =  994473  eCPC is  8647.591304347827\n",
        "#  CTR = 0.003087331203522242  CPM is  26697.97846922065"
      ],
      "execution_count": 0,
      "outputs": []
    },
    {
      "metadata": {
        "id": "9Ojdw8xY8Ou8",
        "colab_type": "code",
        "colab": {}
      },
      "cell_type": "code",
      "source": [
        "# non-linear bidding strategy\n",
        "# ORTB1\n",
        "# find lambda\n",
        "\n",
        "pCTR = loaded_gbdt.predict_proba(x2)[:,1]\n",
        "# lamda_list = [0.1, 0.05, 0.01, 0.005, 0.001, 0.0005, 0.0001, 0.00005, 0.00001]\n",
        "# lamda_list = [0.001, 0.00075, 0.0005, 0.00025]\n",
        "# lamda_list = [0.0005, 0.0004, 0.0003, 0.00027, 0.00026, 0.00025, 0.00024, 0.00023, 0.00022]\n",
        "# lamda_list = [0.000278, 0.000277, 0.000276, 0.000275, 0.000274, 0.000273, 0.000272, 0.000271, 0.00027]\n",
        "# lamda_list = [0.000273, 0.0002725, 0.000272]\n",
        "lamda_list = [0.0002725]\n",
        "\n",
        "\n",
        "w = 7172/(2430981-1793)\n",
        "pCTR = pCTR/(pCTR+(1-pCTR)/w)\n",
        "pCTR *= 100\n",
        "# lamda = 0.001\n",
        "c = 368\n",
        "\n",
        "for lamda in lamda_list:\n",
        "# for c in range(1, 301,20):\n",
        "  current_bid = ((c/lamda)*pCTR + c**2)**0.5 - c\n",
        "  budget = 6250 * 1000\n",
        "  clicks = 0\n",
        "  impressions = 0\n",
        "\n",
        "#   winning_rate = current_bid/(c+current_bid)\n",
        "\n",
        "  for j in range(len(current_bid)): # check the bid price can give how many clicks given the base bid\n",
        "    payprice = val_df.payprice[j]\n",
        "    if current_bid[j] > payprice:\n",
        "      budget = budget - payprice\n",
        "      if budget >=0:\n",
        "        impressions+=1\n",
        "        if (val_df.click[j]==1):\n",
        "                clicks +=1\n",
        "      else:\n",
        "        budget = budget+payprice\n",
        "#           break     \n",
        "\n",
        "  Ctr = clicks/impressions\n",
        "  Spent = 6250000 - budget\n",
        "  cPM = 1000*Spent/impressions\n",
        "  if (clicks >0):\n",
        "      ecPC = Spent/clicks\n",
        "  else:\n",
        "      ecPC =0\n",
        "\n",
        "  print ('For lambda = ', lamda, ' c = ', c, ' impressions =',impressions,' Clicks =',clicks,' Spent amount = ',Spent, ' eCPC is ',ecPC) \n",
        "  print ( ' CTR =',Ctr, ' CPM is ',cPM)\n",
        "  print (' ------->')\n",
        "\n",
        "\n",
        "# For lambda =  0.0002725  c =  368  impressions = 137849  Clicks = 159  Spent amount =  5696956  eCPC is  35829.911949685535\n",
        "#  CTR = 0.001153436006064607  CPM is  41327.510536891816"
      ],
      "execution_count": 0,
      "outputs": []
    },
    {
      "metadata": {
        "id": "9AettGr0YEwE",
        "colab_type": "text"
      },
      "cell_type": "markdown",
      "source": [
        "Predict on Validation"
      ]
    },
    {
      "metadata": {
        "id": "2l0VYxODYHn1",
        "colab_type": "code",
        "colab": {}
      },
      "cell_type": "code",
      "source": [
        "filename = '/content/gdrive/My Drive/we_data/Models/GBDT_Model.sav'\n",
        "loaded_gbdt = joblib.load(filename)\n",
        "\n",
        "x2 = val_df[selected_features]\n",
        "y2 = val_df['click']\n",
        "\n",
        "y_pred = loaded_gbdt.predict(x2)\n",
        "pCTR = loaded_gbdt.predict_proba(x2)[:,1]\n",
        "w = 7172/(2430981-1793)\n",
        "pCTR = pCTR/(pCTR+(1-pCTR)/w)\n",
        "pCTR *= 100\n",
        "c = 368\n",
        "lamda = 0.0002725\n",
        "final_bids = ((c/lamda)*pCTR + c**2)**0.5 - c\n",
        "\n",
        "group_df = val_df[['bidid']]\n",
        "group_df['bidprice'] = final_bids\n",
        "group_df['Probability'] = pCTR\n",
        "group_df['Click'] = y_pred\n",
        "group_df.to_csv('/content/gdrive/My Drive/we_data/SUBMISSION_BIDS/DIFFERENT_pBIDPRICES/VAL_GBDT_ORTB1_RECAL.csv', sep = ',')\n",
        "group_df.head()"
      ],
      "execution_count": 0,
      "outputs": []
    },
    {
      "metadata": {
        "id": "VUthnTGEX_lB",
        "colab_type": "text"
      },
      "cell_type": "markdown",
      "source": [
        "Predict on Test"
      ]
    },
    {
      "metadata": {
        "id": "xDckwfqaNWDc",
        "colab_type": "code",
        "colab": {}
      },
      "cell_type": "code",
      "source": [
        "# test_df = pd.read_csv('/content/gdrive/My Drive/we_data/FINAL_CSVs/FINAL_TEST_v1.csv')\n",
        "# test_df['click'] = 0\n",
        "# test_df = test_df.drop('Unnamed: 0',axis=1)\n",
        "\n",
        "# filename = '/content/gdrive/My Drive/we_data/Models/GBDT_Model.sav'\n",
        "# loaded_gbdt = joblib.load(filename)\n",
        "\n",
        "# x3 = test_df[selected_features]\n",
        "# y3 = test_df['click']\n",
        "\n",
        "# y_pred = loaded_gbdt.predict(x3)\n",
        "# pCTR = loaded_gbdt.predict_proba(x3)[:,1]\n",
        "# w = 7172/(2430981-1793)\n",
        "# pCTR = pCTR/(pCTR+(1-pCTR)/w)\n",
        "# pCTR *= 100\n",
        "# c = 368\n",
        "# lamda = 0.0002725\n",
        "# final_bids = ((c/lamda)*pCTR + c**2)**0.5 - c\n",
        "\n",
        "# group_df = pd.read_csv('/content/gdrive/My Drive/we_data/Group_xx.csv')\n",
        "# group_df['bidprice'] = final_bids\n",
        "# group_df['Probability'] = pCTR\n",
        "# group_df['Click'] = y_pred\n",
        "# group_df.to_csv('/content/gdrive/My Drive/we_data/SUBMISSION_BIDS/DIFFERENT_pBIDPRICES/FINAL_GBDT_ORTB1_BIDS_c368.csv', sep = ',')\n",
        "# group_df.head()"
      ],
      "execution_count": 0,
      "outputs": []
    },
    {
      "metadata": {
        "id": "KSP1HjQvHQIZ",
        "colab_type": "text"
      },
      "cell_type": "markdown",
      "source": [
        "# ORTB 1 (No Recalibration)"
      ]
    },
    {
      "metadata": {
        "id": "agNYwiofHPIm",
        "colab_type": "code",
        "colab": {}
      },
      "cell_type": "code",
      "source": [
        "# non-linear bidding strategy\n",
        "# ORTB1\n",
        "# find c\n",
        "\n",
        "pCTR = loaded_gbdt.predict_proba(x2)[:,1]\n",
        "# lamda_list = [0.1, 0.05, 0.01, 0.005, 0.001, 0.0005, 0.0001, 0.00005, 0.00001]\n",
        "# w = 7172/(2430981-1793)\n",
        "# pCTR = pCTR/(pCTR+(1-pCTR)/w)\n",
        "# pCTR *= 100\n",
        "lamda = 0.001\n",
        "# c = 124\n",
        "\n",
        "# for lamda in lamda_list:\n",
        "for c in range(1, 501):\n",
        "  current_bid = ((c/lamda)*pCTR + c**2)**0.5 - c\n",
        "  budget = 6250 * 1000\n",
        "  clicks = 0\n",
        "  impressions = 0\n",
        "\n",
        "#   winning_rate = current_bid/(c+current_bid)\n",
        "\n",
        "  for j in range(len(current_bid)): # check the bid price can give how many clicks given the base bid\n",
        "    payprice = val_df.payprice[j]\n",
        "    if current_bid[j] > payprice:\n",
        "      budget = budget - payprice\n",
        "      if budget >=0:\n",
        "        impressions+=1\n",
        "        if (val_df.click[j]==1):\n",
        "                clicks +=1\n",
        "      else:\n",
        "        budget = budget+payprice\n",
        "#           break     \n",
        "\n",
        "  Ctr = clicks/impressions\n",
        "  Spent = 6250000 - budget\n",
        "  cPM = 1000*Spent/impressions\n",
        "  if (clicks >0):\n",
        "      ecPC = Spent/clicks\n",
        "  else:\n",
        "      ecPC =0\n",
        "\n",
        "  print ('For lambda = ', lamda, ' c = ', c, ' impressions =',impressions,' Clicks =',clicks,' Spent amount = ',Spent, ' eCPC is ',ecPC) \n",
        "  print ( ' CTR =',Ctr, ' CPM is ',cPM)\n",
        "  print (' ------->')\n",
        "\n",
        "\n",
        "# without calibration\n",
        "# For lambda =  0.001  c =  488  impressions = 118526  Clicks = 152  Spent amount =  4262992  eCPC is  28046.0\n",
        "#  CTR = 0.0012824190472976392  CPM is  35966.724600509595"
      ],
      "execution_count": 0,
      "outputs": []
    },
    {
      "metadata": {
        "id": "I4Seu4uKj65B",
        "colab_type": "code",
        "colab": {}
      },
      "cell_type": "code",
      "source": [
        "# non-linear bidding strategy\n",
        "# ORTB1\n",
        "# find c\n",
        "\n",
        "pCTR = loaded_gbdt.predict_proba(x2)[:,1]\n",
        "lamda_list = [0.00082, 0.00081, 0.0008, 0.00079, 0.00078, 0.00077]\n",
        "# w = 7172/(2430981-1793)\n",
        "# pCTR = pCTR/(pCTR+(1-pCTR)/w)\n",
        "# pCTR *= 100\n",
        "lamda = 0.001\n",
        "c = 488\n",
        "\n",
        "for lamda in lamda_list:\n",
        "# for c in range(441, 501):\n",
        "  current_bid = ((c/lamda)*pCTR + c**2)**0.5 - c\n",
        "  budget = 6250 * 1000\n",
        "  clicks = 0\n",
        "  impressions = 0\n",
        "\n",
        "#   winning_rate = current_bid/(c+current_bid)\n",
        "\n",
        "  for j in range(len(current_bid)): # check the bid price can give how many clicks given the base bid\n",
        "    payprice = val_df.payprice[j]\n",
        "    if current_bid[j] > payprice:\n",
        "      budget = budget - payprice\n",
        "      if budget >=0:\n",
        "        impressions+=1\n",
        "        if (val_df.click[j]==1):\n",
        "                clicks +=1\n",
        "      else:\n",
        "        budget = budget+payprice\n",
        "#           break     \n",
        "\n",
        "  Ctr = clicks/impressions\n",
        "  Spent = 6250000 - budget\n",
        "  cPM = 1000*Spent/impressions\n",
        "  if (clicks >0):\n",
        "      ecPC = Spent/clicks\n",
        "  else:\n",
        "      ecPC =0\n",
        "\n",
        "  print ('For lambda = ', lamda, ' c = ', c, ' impressions =',impressions,' Clicks =',clicks,' Spent amount = ',Spent, ' eCPC is ',ecPC) \n",
        "  print ( ' CTR =',Ctr, ' CPM is ',cPM)\n",
        "  print (' ------->')\n",
        "\n",
        "\n",
        "# without calibration\n",
        "# For lambda =  0.0008  c =  488  impressions = 142165  Clicks = 159  Spent amount =  5768091  eCPC is  36277.301886792455\n",
        "#  CTR = 0.0011184187387894347  CPM is  40573.21422291"
      ],
      "execution_count": 0,
      "outputs": []
    },
    {
      "metadata": {
        "id": "I5iK2rUQHbBO",
        "colab_type": "code",
        "colab": {}
      },
      "cell_type": "code",
      "source": [
        "filename = '/content/gdrive/My Drive/we_data/Models/GBDT_Model.sav'\n",
        "loaded_gbdt = joblib.load(filename)\n",
        "\n",
        "x2 = val_df[selected_features]\n",
        "y2 = val_df['click']\n",
        "\n",
        "y_pred = loaded_gbdt.predict(x2)\n",
        "pCTR = loaded_gbdt.predict_proba(x2)[:,1]\n",
        "# w = 7172/(2430981-1793)\n",
        "# pCTR = pCTR/(pCTR+(1-pCTR)/w)\n",
        "# pCTR *= 100\n",
        "c = 488\n",
        "lamda = 0.0008\n",
        "final_bids = ((c/lamda)*pCTR + c**2)**0.5 - c\n",
        "\n",
        "group_df = val_df[['bidid']]\n",
        "group_df['bidprice'] = final_bids\n",
        "group_df['Probability'] = pCTR\n",
        "group_df['Click'] = y_pred\n",
        "group_df.to_csv('/content/gdrive/My Drive/we_data/SUBMISSION_BIDS/DIFFERENT_pBIDPRICES/VAL_GBDT_ORTB1_BIDS_NO_RECAL.csv', sep = ',')\n",
        "group_df.head()"
      ],
      "execution_count": 0,
      "outputs": []
    },
    {
      "metadata": {
        "id": "Hms8Td8zMiCP",
        "colab_type": "code",
        "outputId": "d3b7ae7d-a5f2-4006-ccb8-23ec276d6a02",
        "colab": {
          "base_uri": "https://localhost:8080/",
          "height": 204
        }
      },
      "cell_type": "code",
      "source": [
        "test_df = pd.read_csv('/content/gdrive/My Drive/we_data/FINAL_CSVs/FINAL_TEST_v1.csv')\n",
        "test_df['click'] = 0\n",
        "test_df = test_df.drop('Unnamed: 0',axis=1)\n",
        "\n",
        "filename = '/content/gdrive/My Drive/we_data/Models/Logistic_Regression_Model.sav'\n",
        "loaded_logreg = joblib.load(filename)\n",
        "\n",
        "x3 = test_df[selected_features]\n",
        "y3 = test_df['click']\n",
        "\n",
        "y_pred = loaded_logreg.predict(x3)\n",
        "pCTR = loaded_logreg.predict_proba(x3)[:,1]\n",
        "c = 488\n",
        "lamda = 0.001\n",
        "final_bids = ((c/lamda)*pCTR + c**2)**0.5 - c\n",
        "\n",
        "group_df = pd.read_csv('/content/gdrive/My Drive/we_data/Group_xx.csv')\n",
        "group_df['bidprice'] = final_bids\n",
        "group_df['Probability'] = pCTR\n",
        "group_df['Click'] = y_pred\n",
        "# group_df.to_csv('/content/gdrive/My Drive/we_data/SUBMISSION_BIDS/DIFFERENT_pBIDPRICES/TEST_GBDT_SQUARED_NO_RECAL.csv')\n",
        "group_df.head()"
      ],
      "execution_count": 0,
      "outputs": [
        {
          "output_type": "execute_result",
          "data": {
            "text/html": [
              "<div>\n",
              "<style scoped>\n",
              "    .dataframe tbody tr th:only-of-type {\n",
              "        vertical-align: middle;\n",
              "    }\n",
              "\n",
              "    .dataframe tbody tr th {\n",
              "        vertical-align: top;\n",
              "    }\n",
              "\n",
              "    .dataframe thead th {\n",
              "        text-align: right;\n",
              "    }\n",
              "</style>\n",
              "<table border=\"1\" class=\"dataframe\">\n",
              "  <thead>\n",
              "    <tr style=\"text-align: right;\">\n",
              "      <th></th>\n",
              "      <th>bidid</th>\n",
              "      <th>bidprice</th>\n",
              "      <th>Probability</th>\n",
              "      <th>Click</th>\n",
              "    </tr>\n",
              "  </thead>\n",
              "  <tbody>\n",
              "    <tr>\n",
              "      <th>0</th>\n",
              "      <td>366c563de7d90feb9d4dab53e795a93fb3157387</td>\n",
              "      <td>363.484485</td>\n",
              "      <td>0.997709</td>\n",
              "      <td>1</td>\n",
              "    </tr>\n",
              "    <tr>\n",
              "      <th>1</th>\n",
              "      <td>29167d4caa719788b5a342dbaa25151d53121f80</td>\n",
              "      <td>17.553667</td>\n",
              "      <td>0.035739</td>\n",
              "      <td>0</td>\n",
              "    </tr>\n",
              "    <tr>\n",
              "      <th>2</th>\n",
              "      <td>ff8bc3f4d44a3ea60c5f3a3a8fbe7cd98fb2966e</td>\n",
              "      <td>364.136206</td>\n",
              "      <td>0.999984</td>\n",
              "      <td>1</td>\n",
              "    </tr>\n",
              "    <tr>\n",
              "      <th>3</th>\n",
              "      <td>844c2da00d45315f20b748ec131c26ee99a7cbc7</td>\n",
              "      <td>8.798410</td>\n",
              "      <td>0.017755</td>\n",
              "      <td>0</td>\n",
              "    </tr>\n",
              "    <tr>\n",
              "      <th>4</th>\n",
              "      <td>c6017f0ad0c44d7d0c9b62583ea863f28941c0ca</td>\n",
              "      <td>359.054202</td>\n",
              "      <td>0.982289</td>\n",
              "      <td>1</td>\n",
              "    </tr>\n",
              "  </tbody>\n",
              "</table>\n",
              "</div>"
            ],
            "text/plain": [
              "                                      bidid    bidprice  Probability  Click\n",
              "0  366c563de7d90feb9d4dab53e795a93fb3157387  363.484485     0.997709      1\n",
              "1  29167d4caa719788b5a342dbaa25151d53121f80   17.553667     0.035739      0\n",
              "2  ff8bc3f4d44a3ea60c5f3a3a8fbe7cd98fb2966e  364.136206     0.999984      1\n",
              "3  844c2da00d45315f20b748ec131c26ee99a7cbc7    8.798410     0.017755      0\n",
              "4  c6017f0ad0c44d7d0c9b62583ea863f28941c0ca  359.054202     0.982289      1"
            ]
          },
          "metadata": {
            "tags": []
          },
          "execution_count": 49
        }
      ]
    },
    {
      "metadata": {
        "id": "2FbCN0ln72Ci",
        "colab_type": "text"
      },
      "cell_type": "markdown",
      "source": [
        "# ORTB 2 (With Recalibration)"
      ]
    },
    {
      "metadata": {
        "id": "lcIATJ2P71Dx",
        "colab_type": "code",
        "colab": {}
      },
      "cell_type": "code",
      "source": [
        "# non-linear bidding strategy\n",
        "# ORTB2\n",
        "# find c\n",
        "\n",
        "pCTR = loaded_gbdt.predict_proba(x2)[:,1]\n",
        "# lamda_list = [0.1, 0.05, 0.01, 0.005, 0.001, 0.0005, 0.0001, 0.00005, 0.00001]\n",
        "w = 7172/(2430981-1793)\n",
        "pCTR = pCTR/(pCTR+(1-pCTR)/w)\n",
        "pCTR *= 100\n",
        "lamda = 0.001\n",
        "# c = 124\n",
        "\n",
        "# for lamda in lamda_list:\n",
        "for c in range(1, 301): # try different base bids to find bid price for each row\n",
        "  current_bid = c*((((pCTR+(c**2 * lamda**2 + pCTR**2)**0.5)/(c*lamda))**(1/3))-(((c*lamda)/(lamda + (c**2 * lamda**2 + pCTR**2)**0.5))**(1/3)))\n",
        "  budget = 6250 * 1000\n",
        "  clicks = 0\n",
        "  impressions = 0\n",
        "\n",
        "  for j in range(len(current_bid)): # check the bid price can give how many clicks given the base bid\n",
        "    payprice = val_df.payprice[j]\n",
        "    if current_bid[j] > payprice:\n",
        "      budget = budget - payprice\n",
        "      if budget >=0:\n",
        "        impressions+=1\n",
        "        if (val_df.click[j]==1):\n",
        "                clicks +=1\n",
        "      else:\n",
        "        budget = budget+payprice\n",
        "        break     \n",
        "\n",
        "\n",
        "  Ctr = clicks/impressions\n",
        "  Spent = 6250000 - budget\n",
        "  cPM = 1000*Spent/impressions\n",
        "  if (clicks >0):\n",
        "      ecPC = Spent/clicks\n",
        "  else:\n",
        "      ecPC =0\n",
        "\n",
        "  print ('For lambda = ', lamda, ' c = ', c, ' impressions =',impressions,' Clicks =',clicks,' Spent amount = ',Spent, ' eCPC is ',ecPC) \n",
        "  print ( ' CTR =',Ctr, ' CPM is ',cPM)\n",
        "  print (' ------->')\n",
        "\n",
        "# For lambda =  0.001  c =  181  impressions = 30514  Clicks = 112  Spent amount =  880951  eCPC is  7865.633928571428\n",
        "#  CTR = 0.003670446352493937  CPM is  28870.387363177557\n",
        "\n",
        "# For lambda =  0.001  c =  169  impressions = 30656  Clicks = 112  Spent amount =  879560  eCPC is  7853.214285714285\n",
        "#  CTR = 0.0036534446764091857  CPM is  28691.283924843425\n"
      ],
      "execution_count": 0,
      "outputs": []
    },
    {
      "metadata": {
        "id": "aTt619dz8qVY",
        "colab_type": "code",
        "colab": {}
      },
      "cell_type": "code",
      "source": [
        "# non-linear bidding strategy\n",
        "# ORTB2\n",
        "# find lamda\n",
        "\n",
        "pCTR = loaded_gbdt.predict_proba(x2)[:,1]\n",
        "# lamda_list = [0.1, 0.05, 0.01, 0.005, 0.001, 0.0005, 0.0001, 0.00005, 0.00001]\n",
        "# lamda_list = [0.00075, 0.0005, 0.00025]\n",
        "lamda_list = [0.0003, 0.00029, 0.00028, 0.00027, 0.00026, 0.00025, 0.00024, 0.00023, 0.00022,0.00022, 0.00021, 0.0002]\n",
        "lamda_list = [0.00026, 0.000259, 0.000258, 0.000257, 0.000256, 0.000255, 0.000254, 0.000253, 0.0000252, 0.000251, 0.00025, 0.000249]\n",
        "\n",
        "\n",
        "w = 7172/(2430981-1793)\n",
        "pCTR = pCTR/(pCTR+(1-pCTR)/w)\n",
        "pCTR *= 100\n",
        "# lamda = 0.001\n",
        "c = 169\n",
        "\n",
        "for lamda in lamda_list:\n",
        "# for c in range(1, 301, 20): # try different base bids to find bid price for each row\n",
        "  current_bid = c*((((pCTR+(c**2 * lamda**2 + pCTR**2)**0.5)/(c*lamda))**(1/3))-(((c*lamda)/(lamda + (c**2 * lamda**2 + pCTR**2)**0.5))**(1/3)))\n",
        "  budget = 6250 * 1000\n",
        "  clicks = 0\n",
        "  impressions = 0\n",
        "\n",
        "  for j in range(len(current_bid)): # check the bid price can give how many clicks given the base bid\n",
        "    payprice = val_df.payprice[j]\n",
        "    if current_bid[j] > payprice:\n",
        "      budget = budget - payprice\n",
        "      if budget >=0:\n",
        "        impressions+=1\n",
        "        if (val_df.click[j]==1):\n",
        "                clicks +=1\n",
        "      else:\n",
        "        budget = budget+payprice\n",
        "        break     \n",
        "\n",
        "\n",
        "  Ctr = clicks/impressions\n",
        "  Spent = 6250000 - budget\n",
        "  cPM = 1000*Spent/impressions\n",
        "  if (clicks >0):\n",
        "      ecPC = Spent/clicks\n",
        "  else:\n",
        "      ecPC =0\n",
        "\n",
        "  print ('For lambda = ', lamda, ' c = ', c, ' impressions =',impressions,' Clicks =',clicks,' Spent amount = ',Spent, ' eCPC is ',ecPC) \n",
        "  print ( ' CTR =',Ctr, ' CPM is ',cPM)\n",
        "  print (' ------->')\n",
        "\n",
        "# For lambda =  0.000256  c =  169  impressions = 139170  Clicks = 160  Spent amount =  5907654  eCPC is  36922.8375\n",
        "#  CTR = 0.0011496730617230725  CPM is  42449.191636128475\n"
      ],
      "execution_count": 0,
      "outputs": []
    },
    {
      "metadata": {
        "id": "kGSn7rixZGv7",
        "colab_type": "text"
      },
      "cell_type": "markdown",
      "source": [
        "Predict on Validation"
      ]
    },
    {
      "metadata": {
        "id": "9q7qkTvLY92S",
        "colab_type": "code",
        "colab": {}
      },
      "cell_type": "code",
      "source": [
        "filename = '/content/gdrive/My Drive/we_data/Models/GBDT_Model.sav'\n",
        "loaded_gbdt = joblib.load(filename)\n",
        "\n",
        "x2 = val_df[selected_features]\n",
        "y2 = val_df['click']\n",
        "\n",
        "y_pred = loaded_gbdt.predict(x2)\n",
        "pCTR = loaded_gbdt.predict_proba(x2)[:,1]\n",
        "w = 7172/(2430981-1793)\n",
        "pCTR = pCTR/(pCTR+(1-pCTR)/w)\n",
        "pCTR *= 100\n",
        "c = 169\n",
        "lamda = 0.000256\n",
        "final_bids = c*((((pCTR+(c**2 * lamda**2 + pCTR**2)**0.5)/(c*lamda))**(1/3))-(((c*lamda)/(lamda + (c**2 * lamda**2 + pCTR**2)**0.5))**(1/3)))\n",
        "\n",
        "group_df = val_df[['bidid']]\n",
        "group_df['bidprice'] = final_bids\n",
        "group_df['Probability'] = pCTR\n",
        "group_df['Click'] = y_pred\n",
        "group_df.to_csv('/content/gdrive/My Drive/we_data/SUBMISSION_BIDS/DIFFERENT_pBIDPRICES/VAL_GBDT_ORTB2_RECAL.csv', sep = ',')\n",
        "group_df.head()"
      ],
      "execution_count": 0,
      "outputs": []
    },
    {
      "metadata": {
        "id": "q_E1in3NZDD7",
        "colab_type": "text"
      },
      "cell_type": "markdown",
      "source": [
        "Predict on Test"
      ]
    },
    {
      "metadata": {
        "id": "nT5KTzL4wwGG",
        "colab_type": "code",
        "colab": {}
      },
      "cell_type": "code",
      "source": [
        "# test_df = pd.read_csv('/content/gdrive/My Drive/we_data/FINAL_CSVs/FINAL_TEST_v1.csv')\n",
        "# test_df['click'] = 0\n",
        "# test_df = test_df.drop('Unnamed: 0',axis=1)\n",
        "\n",
        "# filename = '/content/gdrive/My Drive/we_data/Models/Logistic_Regression_Model.sav'\n",
        "# loaded_logreg = joblib.load(filename)\n",
        "\n",
        "# x3 = test_df[selected_features]\n",
        "# y3 = test_df['click']\n",
        "\n",
        "# y_pred = loaded_logreg.predict(x3)\n",
        "# pCTR = loaded_logreg.predict_proba(x3)[:,1]\n",
        "# w = 7172/(2430981-1793)\n",
        "# pCTR = pCTR/(pCTR+(1-pCTR)/w)\n",
        "# pCTR *= 100\n",
        "# c = 169\n",
        "# lamda = 0.000256\n",
        "# final_bids = c*((((pCTR+(c**2 * lamda**2 + pCTR**2)**0.5)/(c*lamda))**(1/3))-(((c*lamda)/(lamda + (c**2 * lamda**2 + pCTR**2)**0.5))**(1/3)))\n",
        "\n",
        "# group_df = pd.read_csv('/content/gdrive/My Drive/we_data/Group_xx.csv')\n",
        "# group_df['bidprice'] = final_bids\n",
        "# group_df['Probability'] = pCTR\n",
        "# group_df['Click'] = y_pred\n",
        "# group_df.to_csv('/content/gdrive/My Drive/we_data/SUBMISSION_BIDS/FINAL_LR_ORTB2_BIDS_c124.csv')\n",
        "# group_df.head()"
      ],
      "execution_count": 0,
      "outputs": []
    },
    {
      "metadata": {
        "id": "idlRCm-kGgmG",
        "colab_type": "text"
      },
      "cell_type": "markdown",
      "source": [
        "# ORTB 2 (No recalibration)"
      ]
    },
    {
      "metadata": {
        "id": "s6sPYizrGfmZ",
        "colab_type": "code",
        "colab": {}
      },
      "cell_type": "code",
      "source": [
        "# non-linear bidding strategy\n",
        "# ORTB2\n",
        "# find c\n",
        "\n",
        "pCTR = loaded_gbdt.predict_proba(x2)[:,1]\n",
        "# lamda_list = [0.1, 0.05, 0.01, 0.005, 0.001, 0.0005, 0.0001, 0.00005, 0.00001]\n",
        "# w = 7172/(2430981-1793)\n",
        "# pCTR = pCTR/(pCTR+(1-pCTR)/w)\n",
        "# pCTR *= 100\n",
        "lamda = 0.001\n",
        "# c = 124\n",
        "\n",
        "# for lamda in lamda_list:\n",
        "for c in range(1, 301): # try different base bids to find bid price for each row\n",
        "  current_bid = c*((((pCTR+(c**2 * lamda**2 + pCTR**2)**0.5)/(c*lamda))**(1/3))-(((c*lamda)/(lamda + (c**2 * lamda**2 + pCTR**2)**0.5))**(1/3)))\n",
        "  budget = 6250 * 1000\n",
        "  clicks = 0\n",
        "  impressions = 0\n",
        "\n",
        "  for j in range(len(current_bid)): # check the bid price can give how many clicks given the base bid\n",
        "    payprice = val_df.payprice[j]\n",
        "    if current_bid[j] > payprice:\n",
        "      budget = budget - payprice\n",
        "      if budget >=0:\n",
        "        impressions+=1\n",
        "        if (val_df.click[j]==1):\n",
        "                clicks +=1\n",
        "      else:\n",
        "        budget = budget+payprice\n",
        "        break     \n",
        "\n",
        "\n",
        "  Ctr = clicks/impressions\n",
        "  Spent = 6250000 - budget\n",
        "  cPM = 1000*Spent/impressions\n",
        "  if (clicks >0):\n",
        "      ecPC = Spent/clicks\n",
        "  else:\n",
        "      ecPC =0\n",
        "\n",
        "  print ('For lambda = ', lamda, ' c = ', c, ' impressions =',impressions,' Clicks =',clicks,' Spent amount = ',Spent, ' eCPC is ',ecPC) \n",
        "  print ( ' CTR =',Ctr, ' CPM is ',cPM)\n",
        "  print (' ------->')\n",
        "\n",
        "# For lambda =  0.001  c =  239  impressions = 106067  Clicks = 152  Spent amount =  3795935  eCPC is  24973.25657894737\n",
        "#  CTR = 0.0014330564643102945  CPM is  35788.08677534012"
      ],
      "execution_count": 0,
      "outputs": []
    },
    {
      "metadata": {
        "id": "1p_DhSGHyhQl",
        "colab_type": "code",
        "colab": {}
      },
      "cell_type": "code",
      "source": [
        "# non-linear bidding strategy\n",
        "# ORTB2\n",
        "# find c\n",
        "\n",
        "pCTR = loaded_gbdt.predict_proba(x2)[:,1]\n",
        "lamda_list = [0.000768, 0.000765, 0.000763]\n",
        "# w = 7172/(2430981-1793)\n",
        "# pCTR = pCTR/(pCTR+(1-pCTR)/w)\n",
        "# pCTR *= 100\n",
        "# lamda = 0.001\n",
        "# c = 239\n",
        "\n",
        "for lamda in lamda_list:\n",
        "# for c in range(221, 261): # try different base bids to find bid price for each row\n",
        "  current_bid = c*((((pCTR+(c**2 * lamda**2 + pCTR**2)**0.5)/(c*lamda))**(1/3))-(((c*lamda)/(lamda + (c**2 * lamda**2 + pCTR**2)**0.5))**(1/3)))\n",
        "  budget = 6250 * 1000\n",
        "  clicks = 0\n",
        "  impressions = 0\n",
        "\n",
        "  for j in range(len(current_bid)): # check the bid price can give how many clicks given the base bid\n",
        "    payprice = val_df.payprice[j]\n",
        "    if current_bid[j] > payprice:\n",
        "      budget = budget - payprice\n",
        "      if budget >=0:\n",
        "        impressions+=1\n",
        "        if (val_df.click[j]==1):\n",
        "                clicks +=1\n",
        "      else:\n",
        "        budget = budget+payprice\n",
        "        break     \n",
        "\n",
        "\n",
        "  Ctr = clicks/impressions\n",
        "  Spent = 6250000 - budget\n",
        "  cPM = 1000*Spent/impressions\n",
        "  if (clicks >0):\n",
        "      ecPC = Spent/clicks\n",
        "  else:\n",
        "      ecPC =0\n",
        "\n",
        "  print ('For lambda = ', lamda, ' c = ', c, ' impressions =',impressions,' Clicks =',clicks,' Spent amount = ',Spent, ' eCPC is ',ecPC) \n",
        "  print ( ' CTR =',Ctr, ' CPM is ',cPM)\n",
        "  print (' ------->')\n",
        "\n",
        "# For lambda =  0.00076  c =  260  impressions = 136930  Clicks = 159  Spent amount =  5631629  eCPC is  35419.05031446541\n",
        "#  CTR = 0.0011611772438472213  CPM is  41127.795223837"
      ],
      "execution_count": 0,
      "outputs": []
    },
    {
      "metadata": {
        "id": "EjP4gwrJGxY5",
        "colab_type": "code",
        "colab": {}
      },
      "cell_type": "code",
      "source": [
        "filename = '/content/gdrive/My Drive/we_data/Models/GBDT_Model.sav'\n",
        "loaded_gbdt = joblib.load(filename)\n",
        "\n",
        "x2 = val_df[selected_features]\n",
        "y2 = val_df['click']\n",
        "\n",
        "y_pred = loaded_gbdt.predict(x2)\n",
        "pCTR = loaded_gbdt.predict_proba(x2)[:,1]\n",
        "# w = 7172/(2430981-1793)\n",
        "# pCTR = pCTR/(pCTR+(1-pCTR)/w)\n",
        "# pCTR *= 100\n",
        "c = 260\n",
        "lamda = 0.00076\n",
        "final_bids = c*((((pCTR+(c**2 * lamda**2 + pCTR**2)**0.5)/(c*lamda))**(1/3))-(((c*lamda)/(lamda + (c**2 * lamda**2 + pCTR**2)**0.5))**(1/3)))\n",
        "\n",
        "group_df = val_df[['bidid']]\n",
        "group_df['bidprice'] = final_bids\n",
        "group_df['Probability'] = pCTR\n",
        "group_df['Click'] = y_pred\n",
        "group_df.to_csv('/content/gdrive/My Drive/we_data/SUBMISSION_BIDS/DIFFERENT_pBIDPRICES/VAL_GBDT_ORTB2_NO_RECAL.csv', sep = ',')\n",
        "group_df.head()"
      ],
      "execution_count": 0,
      "outputs": []
    }
  ]
}